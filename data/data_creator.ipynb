{
 "cells": [
  {
   "cell_type": "code",
   "execution_count": 1,
   "id": "14ddaa81-ffa3-46e8-adfe-fd864b82411f",
   "metadata": {},
   "outputs": [],
   "source": [
    "from PIL import Image, ImageFont, ImageDraw\n",
    "from pilmoji import Pilmoji\n",
    "from pilmoji.source import EmojiCDNSource\n",
    "import numpy as np\n",
    "import pickle"
   ]
  },
  {
   "cell_type": "code",
   "execution_count": 37,
   "id": "64e5e9a1-f417-475a-b00c-1bdbbc35e988",
   "metadata": {},
   "outputs": [],
   "source": [
    "def create_data(emojis, save_as=None, disp=True):\n",
    "    \"\"\"\n",
    "    Create an dict containing all data to draw N \n",
    "    different emojis (which are specified in the\n",
    "    first parameter of function). Structure of dict: \n",
    "    {\n",
    "        'emojis': list of N emojis of str type,\n",
    "        'styles': dict of 4 style names {number: stylename},\n",
    "        'matrices': np-array with shape (4, N, 128, 128, 4) of uint8,\n",
    "        'averages': np-array with shape (4, N, 3) of float,\n",
    "        'areas': np-array with shape (4, N) of float\n",
    "    }\n",
    "\n",
    "    PARAMETERS\n",
    "    ----------\n",
    "    emojis : list[str]\n",
    "        list of emojis to build data\n",
    "\n",
    "    save_as : str or None\n",
    "        path to save data. If None is specified, data\n",
    "        will not be saved\n",
    "    \n",
    "    disp : bool\n",
    "        | toggle progress displaing\n",
    "    \"\"\"\n",
    "    \n",
    "    def _str2style(name):\n",
    "        \"\"\"to convert style name to style class\"\"\"\n",
    "        class StyleClass(EmojiCDNSource):\n",
    "            STYLE = name\n",
    "        return StyleClass\n",
    "        \n",
    "    # Quantity of emojis\n",
    "    n_emojis = len(emojis)\n",
    "\n",
    "    # Size of image with emoji\n",
    "    esize = (128, 128)\n",
    "    \n",
    "    data_dict = {\n",
    "        'emojis': emojis,\n",
    "        'styles': {0: 'twitter', \n",
    "                   1: 'apple', \n",
    "                   2: 'google', \n",
    "                   3: 'facebook'},\n",
    "        'matrices': np.zeros((4, n_emojis, *esize, 4), \n",
    "                             dtype='uint8'),\n",
    "        'averages': np.zeros((4, n_emojis, 3)),\n",
    "        'areas': np.zeros((4, n_emojis))\n",
    "    }\n",
    "\n",
    "    # Style classes\n",
    "    styles = [_str2style(data_dict['styles'][i]) for i in range(4)]\n",
    "\n",
    "    for i, emoji in enumerate(emojis):\n",
    "        for j, style in enumerate(styles):\n",
    "            # Drawing an emoji on empty (0, 0, 0, 0) RGBA image\n",
    "            with Image.new('RGBA', esize, 0) as image:\n",
    "                font = ImageFont.truetype('arial.ttf', esize[0])\n",
    "                with Pilmoji(image, source=style) as pilmoji:\n",
    "                    pilmoji.text((0, 0), emoji, font=font)\n",
    "            # RGBA-matrix\n",
    "            image_np = np.array(image)\n",
    "            data_dict['matrices'][j, i] = image_np#.astype('uint8')\n",
    "            \n",
    "            # Area occupied by an emoji\n",
    "            alphas = image_np[..., 3:] / 255\n",
    "            data_dict['areas'][j, i] = alphas.sum() / np.prod(esize)\n",
    "\n",
    "            # Average color of emoji\n",
    "            weighted_sum = (image_np[:, :, :3] * alphas).sum(axis=(0, 1))\n",
    "            data_dict['averages'][j, i] =  weighted_sum / alphas.sum()\n",
    "            \n",
    "            # Displaing the progress\n",
    "            if disp:\n",
    "                total = n_emojis * 4\n",
    "                current = i * 4 + j + 1\n",
    "                progress = f'{round(current / total * 100, 2)}%'\n",
    "                print(f'\\r{progress:<6} ({i+1}/{len(emojis)})', end='')\n",
    "    if disp:\n",
    "        print()\n",
    "\n",
    "    # Saving as binary pickle file\n",
    "    if save_as is not None:\n",
    "        with open(f'{save_as}.pkl', 'bw') as file:\n",
    "            pickle.dump(data_dict, file)\n",
    "\n",
    "    return data_dict"
   ]
  },
  {
   "cell_type": "code",
   "execution_count": 3,
   "id": "1c46aeb7-31c5-4e9a-80c8-bd1110eac69c",
   "metadata": {},
   "outputs": [],
   "source": [
    "def load_emoji_list(list_name):\n",
    "    with open(f'{list_name}.txt', 'r') as file:\n",
    "        emoji_list = [line.strip() for line in file]\n",
    "    return emoji_list"
   ]
  },
  {
   "cell_type": "code",
   "execution_count": 36,
   "id": "3d6b88fb-d2f0-497d-aed9-bb4c8bda09a5",
   "metadata": {},
   "outputs": [],
   "source": [
    "# moon colors love food flags all_flags classic"
   ]
  },
  {
   "cell_type": "code",
   "execution_count": null,
   "id": "4626173b-ebcf-492c-83f4-6135b9f9f3d0",
   "metadata": {},
   "outputs": [],
   "source": [
    "%%time\n",
    "name = 'classic'\n",
    "exec(f'{name} = create_data(load_emoji_list(\"lists/{name}\"), \"{name}\")')"
   ]
  },
  {
   "cell_type": "code",
   "execution_count": null,
   "id": "f1958da8-1a44-4f3c-836f-3e0a0b3834b8",
   "metadata": {},
   "outputs": [],
   "source": [
    "%%time\n",
    "name = 'all_flags'\n",
    "exec(f'{name} = create_data(load_emoji_list(\"lists/{name}\"), \"{name}\")')"
   ]
  },
  {
   "cell_type": "code",
   "execution_count": null,
   "id": "481e69ee-15ca-4705-a7f8-ef1b9d779be8",
   "metadata": {},
   "outputs": [],
   "source": [
    "%%time\n",
    "name = 'flags'\n",
    "exec(f'{name} = create_data(load_emoji_list(\"lists/{name}\"), \"{name}\")')"
   ]
  },
  {
   "cell_type": "code",
   "execution_count": 54,
   "id": "034eebfa-a06c-4822-8ba1-fded0ca646de",
   "metadata": {},
   "outputs": [
    {
     "name": "stdout",
     "output_type": "stream",
     "text": [
      "100.0% (115/115)\n",
      "CPU times: user 22.6 s, sys: 1.31 s, total: 23.9 s\n",
      "Wall time: 9min 47s\n"
     ]
    }
   ],
   "source": [
    "%%time\n",
    "name = 'food'\n",
    "exec(f'{name} = create_data(load_emoji_list(\"lists/{name}\"), \"{name}\")')"
   ]
  },
  {
   "cell_type": "code",
   "execution_count": 53,
   "id": "e50e6ea9-3f38-41f6-bcf1-b3236814ab5b",
   "metadata": {},
   "outputs": [
    {
     "name": "stdout",
     "output_type": "stream",
     "text": [
      "100.0% (29/29)\n",
      "CPU times: user 5.55 s, sys: 253 ms, total: 5.8 s\n",
      "Wall time: 2min 17s\n"
     ]
    }
   ],
   "source": [
    "%%time\n",
    "name = 'love'\n",
    "exec(f'{name} = create_data(load_emoji_list(\"lists/{name}\"), \"{name}\")')"
   ]
  },
  {
   "cell_type": "code",
   "execution_count": 52,
   "id": "9befed92-31a4-4410-99e0-aeeeaa46ce40",
   "metadata": {},
   "outputs": [
    {
     "name": "stdout",
     "output_type": "stream",
     "text": [
      "100.0% (30/30)\n",
      "CPU times: user 5.76 s, sys: 268 ms, total: 6.03 s\n",
      "Wall time: 2min 29s\n"
     ]
    }
   ],
   "source": [
    "%%time\n",
    "name = 'colors'\n",
    "exec(f'{name} = create_data(load_emoji_list(\"lists/{name}\"), \"{name}\")')"
   ]
  },
  {
   "cell_type": "code",
   "execution_count": 51,
   "id": "77bc2ddd-ab48-460a-b904-aa70fa4ab510",
   "metadata": {},
   "outputs": [
    {
     "name": "stdout",
     "output_type": "stream",
     "text": [
      "100.0% (8/8)\n",
      "CPU times: user 1.56 s, sys: 86.8 ms, total: 1.65 s\n",
      "Wall time: 24.2 s\n"
     ]
    }
   ],
   "source": [
    "%%time\n",
    "name = 'moon'\n",
    "exec(f'{name} = create_data(load_emoji_list(\"lists/{name}\"), \"{name}\")')"
   ]
  },
  {
   "cell_type": "code",
   "execution_count": 50,
   "id": "a3011016-66dc-4b98-a3a9-dea92851ab1b",
   "metadata": {},
   "outputs": [
    {
     "data": {
      "image/png": "[encoded data removed]",
      "text/plain": [
       "<PIL.Image.Image image mode=RGBA size=128x128>"
      ]
     },
     "execution_count": 50,
     "metadata": {},
     "output_type": "execute_result"
    }
   ],
   "source": [
    "Image.fromarray(moon['matrices'][1, 0])"
   ]
  }
 ],
 "metadata": {
  "kernelspec": {
   "display_name": "Python 3 (ipykernel)",
   "language": "python",
   "name": "python3"
  },
  "language_info": {
   "codemirror_mode": {
    "name": "ipython",
    "version": 3
   },
   "file_extension": ".py",
   "mimetype": "text/x-python",
   "name": "python",
   "nbconvert_exporter": "python",
   "pygments_lexer": "ipython3",
   "version": "3.12.1"
  }
 },
 "nbformat": 4,
 "nbformat_minor": 5
}
