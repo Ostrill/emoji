{
 "cells": [
  {
   "cell_type": "code",
   "execution_count": 1,
   "id": "14ddaa81-ffa3-46e8-adfe-fd864b82411f",
   "metadata": {},
   "outputs": [],
   "source": [
    "from PIL import Image, ImageFont, ImageDraw\n",
    "from pilmoji import Pilmoji\n",
    "from pilmoji.source import EmojiCDNSource\n",
    "import numpy as np\n",
    "import pickle"
   ]
  },
  {
   "cell_type": "code",
   "execution_count": 2,
   "id": "64e5e9a1-f417-475a-b00c-1bdbbc35e988",
   "metadata": {},
   "outputs": [],
   "source": [
    "def create_data(emojis,\n",
    "                size=50,\n",
    "                save_as=None, \n",
    "                disp=True):\n",
    "    \"\"\"\n",
    "    Create an dict containing all data to draw N \n",
    "    different emojis (which are specified in the\n",
    "    first parameter of function). Structure of dict: \n",
    "    {\n",
    "        'emojis': list of N emojis of str type,\n",
    "        'styles': dict of 4 style names {number: stylename},\n",
    "        'size': int (side of square image on which emojis are drawn),\n",
    "        'matrices': np-array with shape (4, N, size, size, 4) of uint8,\n",
    "    }\n",
    "\n",
    "    PARAMETERS\n",
    "    ----------\n",
    "    emojis : list[str]\n",
    "        list of emojis to build data\n",
    "\n",
    "    size : int\n",
    "        length of the side of the square image, on\n",
    "        which emojis will be drawn\n",
    "\n",
    "    save_as : str or None\n",
    "        path to save data. If None is specified, data\n",
    "        will not be saved\n",
    "    \n",
    "    disp : bool\n",
    "        toggle progress displaing\n",
    "    \"\"\"\n",
    "    \n",
    "    def _str2style(name):\n",
    "        \"\"\"to convert style name to style class\"\"\"\n",
    "        class StyleClass(EmojiCDNSource):\n",
    "            STYLE = name\n",
    "        return StyleClass\n",
    "        \n",
    "    # Quantity of emojis\n",
    "    n_emojis = len(emojis)\n",
    "\n",
    "    # Size of image with emoji\n",
    "    esize = (size, size)\n",
    "    \n",
    "    data_dict = {\n",
    "        'emojis': emojis,\n",
    "        'styles': {0: 'twitter', \n",
    "                   1: 'apple', \n",
    "                   2: 'google', \n",
    "                   3: 'facebook'},\n",
    "        'size': size,\n",
    "        'matrices': np.zeros((4, n_emojis, *esize, 4), \n",
    "                             dtype='uint8')\n",
    "    }\n",
    "\n",
    "    # Style classes\n",
    "    styles = [_str2style(data_dict['styles'][i]) for i in range(4)]\n",
    "\n",
    "    for i, emoji in enumerate(emojis):\n",
    "        for j, style in enumerate(styles):\n",
    "            # Drawing an emoji on empty (0, 0, 0, 0) RGBA image\n",
    "            with Image.new('RGBA', esize, 0) as image:\n",
    "                font = ImageFont.truetype('arial.ttf', esize[0])\n",
    "                with Pilmoji(image, source=style) as pilmoji:\n",
    "                    pilmoji.text((0, 0), emoji, font=font)\n",
    "                    \n",
    "            # RGBA-matrix\n",
    "            image_np = np.array(image)\n",
    "            data_dict['matrices'][j, i] = image_np\n",
    "            \n",
    "            # Displaing the progress\n",
    "            if disp:\n",
    "                total = n_emojis * 4\n",
    "                current = i * 4 + j + 1\n",
    "                progress = f'{round(current / total * 100, 2)}%'\n",
    "                print(f'\\r{progress:<6} ({i+1}/{len(emojis)})', end='')\n",
    "    if disp:\n",
    "        print()\n",
    "\n",
    "    # Saving as binary pickle file\n",
    "    if save_as is not None:\n",
    "        with open(f'{save_as}.pkl', 'wb') as file:\n",
    "            pickle.dump(data_dict, file)\n",
    "\n",
    "    return data_dict"
   ]
  },
  {
   "cell_type": "markdown",
   "id": "d395e2ef-bbf3-4585-a2bd-01121bf63d1e",
   "metadata": {},
   "source": [
    "# <font color=\"red\">↓ TO DELETE ↓"
   ]
  },
  {
   "cell_type": "code",
   "execution_count": 3,
   "id": "1c46aeb7-31c5-4e9a-80c8-bd1110eac69c",
   "metadata": {},
   "outputs": [],
   "source": [
    "def load_emoji_list(list_name):\n",
    "    with open(f'lists/{list_name}.txt', 'r') as file:\n",
    "        emoji_list = [line.strip() for line in file]\n",
    "    return emoji_list"
   ]
  },
  {
   "cell_type": "code",
   "execution_count": 6,
   "id": "9c3958cb-2bb8-474d-8dfa-dc95e2a3094e",
   "metadata": {},
   "outputs": [],
   "source": [
    "def load_data(pack):\n",
    "    with open(f'{pack}.pkl', 'rb') as file:\n",
    "        data = pickle.load(file)\n",
    "    return data"
   ]
  }
 ],
 "metadata": {
  "kernelspec": {
   "display_name": "Python 3 (ipykernel)",
   "language": "python",
   "name": "python3"
  },
  "language_info": {
   "codemirror_mode": {
    "name": "ipython",
    "version": 3
   },
   "file_extension": ".py",
   "mimetype": "text/x-python",
   "name": "python",
   "nbconvert_exporter": "python",
   "pygments_lexer": "ipython3",
   "version": "3.12.1"
  }
 },
 "nbformat": 4,
 "nbformat_minor": 5
}
