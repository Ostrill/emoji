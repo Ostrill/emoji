{
 "cells": [
  {
   "cell_type": "code",
   "execution_count": 1,
   "id": "14ddaa81-ffa3-46e8-adfe-fd864b82411f",
   "metadata": {},
   "outputs": [],
   "source": [
    "from PIL import Image, ImageFont, ImageDraw\n",
    "from pilmoji import Pilmoji\n",
    "from pilmoji.source import EmojiCDNSource\n",
    "import numpy as np\n",
    "import pickle"
   ]
  },
  {
   "cell_type": "code",
   "execution_count": 2,
   "id": "64e5e9a1-f417-475a-b00c-1bdbbc35e988",
   "metadata": {},
   "outputs": [],
   "source": [
    "def create_data(emojis,\n",
    "                size=50,\n",
    "                save_as=None, \n",
    "                disp=True):\n",
    "    \"\"\"\n",
    "    Create an dict containing all data to draw N \n",
    "    different emojis (which are specified in the\n",
    "    first parameter of function). Structure of dict: \n",
    "    {\n",
    "        'emojis': list of N emojis of str type,\n",
    "        'styles': dict of 4 style names {number: stylename},\n",
    "        'size': int (side of square image on which emojis are drawn),\n",
    "        'matrices': np-array with shape (4, N, size, size, 4) of uint8,\n",
    "    }\n",
    "\n",
    "    PARAMETERS\n",
    "    ----------\n",
    "    emojis : list[str]\n",
    "        list of emojis to build data\n",
    "\n",
    "    size : int\n",
    "        length of the side of the square image, on\n",
    "        which emojis will be drawn\n",
    "\n",
    "    save_as : str or None\n",
    "        path to save data. If None is specified, data\n",
    "        will not be saved\n",
    "    \n",
    "    disp : bool\n",
    "        toggle progress displaing\n",
    "    \"\"\"\n",
    "    \n",
    "    def _str2style(name):\n",
    "        \"\"\"to convert style name to style class\"\"\"\n",
    "        class StyleClass(EmojiCDNSource):\n",
    "            STYLE = name\n",
    "        return StyleClass\n",
    "        \n",
    "    # Quantity of emojis\n",
    "    n_emojis = len(emojis)\n",
    "\n",
    "    # Size of image with emoji\n",
    "    esize = (size, size)\n",
    "    \n",
    "    data_dict = {\n",
    "        'emojis': emojis,\n",
    "        'styles': {0: 'twitter', \n",
    "                   1: 'apple', \n",
    "                   2: 'google', \n",
    "                   3: 'facebook'},\n",
    "        'size': size,\n",
    "        'matrices': np.zeros((4, n_emojis, *esize, 4), \n",
    "                             dtype='uint8')\n",
    "    }\n",
    "\n",
    "    # Style classes\n",
    "    styles = [_str2style(data_dict['styles'][i]) for i in range(4)]\n",
    "\n",
    "    for i, emoji in enumerate(emojis):\n",
    "        for j, style in enumerate(styles):\n",
    "            # Drawing an emoji on empty (0, 0, 0, 0) RGBA image\n",
    "            with Image.new('RGBA', esize, 0) as image:\n",
    "                font = ImageFont.truetype('arial.ttf', esize[0])\n",
    "                with Pilmoji(image, source=style) as pilmoji:\n",
    "                    pilmoji.text((0, 0), emoji, font=font)\n",
    "                    \n",
    "            # RGBA-matrix\n",
    "            image_np = np.array(image)\n",
    "            data_dict['matrices'][j, i] = image_np#.astype('uint8')\n",
    "            \n",
    "            # Displaing the progress\n",
    "            if disp:\n",
    "                total = n_emojis * 4\n",
    "                current = i * 4 + j + 1\n",
    "                progress = f'{round(current / total * 100, 2)}%'\n",
    "                print(f'\\r{progress:<6} ({i+1}/{len(emojis)})', end='')\n",
    "    if disp:\n",
    "        print()\n",
    "\n",
    "    # Saving as binary pickle file\n",
    "    if save_as is not None:\n",
    "        with open(f'{save_as}.pkl', 'wb') as file:\n",
    "            pickle.dump(data_dict, file)\n",
    "\n",
    "    return data_dict"
   ]
  },
  {
   "cell_type": "code",
   "execution_count": 3,
   "id": "1c46aeb7-31c5-4e9a-80c8-bd1110eac69c",
   "metadata": {},
   "outputs": [],
   "source": [
    "def load_emoji_list(list_name):\n",
    "    with open(f'lists/{list_name}.txt', 'r') as file:\n",
    "        emoji_list = [line.strip() for line in file]\n",
    "    return emoji_list"
   ]
  },
  {
   "cell_type": "code",
   "execution_count": 4,
   "id": "674d5a75-95cc-4991-958c-51b8c9914767",
   "metadata": {},
   "outputs": [],
   "source": [
    "def gen_code(name):\n",
    "    return f'{name} = create_data(load_emoji_list(\"{name}\"), size=50, save_as=\"{name}\")'"
   ]
  },
  {
   "cell_type": "code",
   "execution_count": 6,
   "id": "9c3958cb-2bb8-474d-8dfa-dc95e2a3094e",
   "metadata": {},
   "outputs": [],
   "source": [
    "def load_data(pack):\n",
    "    with open(f'{pack}.pkl', 'rb') as file:\n",
    "        data = pickle.load(file)\n",
    "    return data"
   ]
  },
  {
   "cell_type": "code",
   "execution_count": 11,
   "id": "2eadd499-b941-4d67-9a4e-fecdbb9e457d",
   "metadata": {},
   "outputs": [],
   "source": [
    "tmp = load_data('moon_50')\n",
    "remake = {}\n",
    "remake['emojis'] = tmp['emojis']\n",
    "remake['styles'] = tmp['styles']\n",
    "remake['size'] = 50\n",
    "remake['matrices'] = tmp['matrices']\n",
    "with open(f'moon.pkl', 'wb') as file:\n",
    "    pickle.dump(remake, file)"
   ]
  },
  {
   "cell_type": "code",
   "execution_count": 5,
   "id": "ccd40b30-5c01-499f-9ff7-8cd768f9081d",
   "metadata": {},
   "outputs": [
    {
     "name": "stdout",
     "output_type": "stream",
     "text": [
      "100.0% (493/493)\n",
      "100.0% (254/254)\n",
      "100.0% (246/246)\n",
      "59.13% (68/115)"
     ]
    },
    {
     "ename": "UnidentifiedImageError",
     "evalue": "cannot identify image file <_io.BytesIO object at 0x10e4bc720>",
     "output_type": "error",
     "traceback": [
      "\u001b[0;31m---------------------------------------------------------------------------\u001b[0m",
      "\u001b[0;31mUnidentifiedImageError\u001b[0m                    Traceback (most recent call last)",
      "Cell \u001b[0;32mIn[5], line 2\u001b[0m\n\u001b[1;32m      1\u001b[0m \u001b[38;5;28;01mfor\u001b[39;00m name \u001b[38;5;129;01min\u001b[39;00m (\u001b[38;5;124m'\u001b[39m\u001b[38;5;124mclassic\u001b[39m\u001b[38;5;124m'\u001b[39m, \u001b[38;5;124m'\u001b[39m\u001b[38;5;124mall_flags\u001b[39m\u001b[38;5;124m'\u001b[39m, \u001b[38;5;124m'\u001b[39m\u001b[38;5;124mflags\u001b[39m\u001b[38;5;124m'\u001b[39m, \u001b[38;5;124m'\u001b[39m\u001b[38;5;124mfood\u001b[39m\u001b[38;5;124m'\u001b[39m, \u001b[38;5;124m'\u001b[39m\u001b[38;5;124mcolors\u001b[39m\u001b[38;5;124m'\u001b[39m, \u001b[38;5;124m'\u001b[39m\u001b[38;5;124mlove\u001b[39m\u001b[38;5;124m'\u001b[39m, \u001b[38;5;124m'\u001b[39m\u001b[38;5;124mmoon\u001b[39m\u001b[38;5;124m'\u001b[39m):\n\u001b[0;32m----> 2\u001b[0m     \u001b[43mexec\u001b[49m\u001b[43m(\u001b[49m\u001b[43mgen_code\u001b[49m\u001b[43m(\u001b[49m\u001b[43mname\u001b[49m\u001b[43m)\u001b[49m\u001b[43m)\u001b[49m\n",
      "File \u001b[0;32m<string>:1\u001b[0m\n",
      "Cell \u001b[0;32mIn[2], line 65\u001b[0m, in \u001b[0;36mcreate_data\u001b[0;34m(emojis, size, save_as, disp)\u001b[0m\n\u001b[1;32m     63\u001b[0m     font \u001b[38;5;241m=\u001b[39m ImageFont\u001b[38;5;241m.\u001b[39mtruetype(\u001b[38;5;124m'\u001b[39m\u001b[38;5;124marial.ttf\u001b[39m\u001b[38;5;124m'\u001b[39m, esize[\u001b[38;5;241m0\u001b[39m])\n\u001b[1;32m     64\u001b[0m     \u001b[38;5;28;01mwith\u001b[39;00m Pilmoji(image, source\u001b[38;5;241m=\u001b[39mstyle) \u001b[38;5;28;01mas\u001b[39;00m pilmoji:\n\u001b[0;32m---> 65\u001b[0m         \u001b[43mpilmoji\u001b[49m\u001b[38;5;241;43m.\u001b[39;49m\u001b[43mtext\u001b[49m\u001b[43m(\u001b[49m\u001b[43m(\u001b[49m\u001b[38;5;241;43m0\u001b[39;49m\u001b[43m,\u001b[49m\u001b[43m \u001b[49m\u001b[38;5;241;43m0\u001b[39;49m\u001b[43m)\u001b[49m\u001b[43m,\u001b[49m\u001b[43m \u001b[49m\u001b[43memoji\u001b[49m\u001b[43m,\u001b[49m\u001b[43m \u001b[49m\u001b[43mfont\u001b[49m\u001b[38;5;241;43m=\u001b[39;49m\u001b[43mfont\u001b[49m\u001b[43m)\u001b[49m\n\u001b[1;32m     67\u001b[0m \u001b[38;5;66;03m# RGBA-matrix\u001b[39;00m\n\u001b[1;32m     68\u001b[0m image_np \u001b[38;5;241m=\u001b[39m np\u001b[38;5;241m.\u001b[39marray(image)\n",
      "File \u001b[0;32m/Library/Frameworks/Python.framework/Versions/3.12/lib/python3.12/site-packages/pilmoji/core.py:318\u001b[0m, in \u001b[0;36mPilmoji.text\u001b[0;34m(self, xy, text, fill, font, anchor, spacing, node_spacing, align, direction, features, language, stroke_width, stroke_fill, embedded_color, emoji_scale_factor, emoji_position_offset, *args, **kwargs)\u001b[0m\n\u001b[1;32m    315\u001b[0m     x \u001b[38;5;241m+\u001b[39m\u001b[38;5;241m=\u001b[39m node_spacing \u001b[38;5;241m+\u001b[39m width\n\u001b[1;32m    316\u001b[0m     \u001b[38;5;28;01mcontinue\u001b[39;00m\n\u001b[0;32m--> 318\u001b[0m \u001b[38;5;28;01mwith\u001b[39;00m \u001b[43mImage\u001b[49m\u001b[38;5;241;43m.\u001b[39;49m\u001b[43mopen\u001b[49m\u001b[43m(\u001b[49m\u001b[43mstream\u001b[49m\u001b[43m)\u001b[49m\u001b[38;5;241m.\u001b[39mconvert(\u001b[38;5;124m'\u001b[39m\u001b[38;5;124mRGBA\u001b[39m\u001b[38;5;124m'\u001b[39m) \u001b[38;5;28;01mas\u001b[39;00m asset:\n\u001b[1;32m    319\u001b[0m     width \u001b[38;5;241m=\u001b[39m \u001b[38;5;28mint\u001b[39m(emoji_scale_factor \u001b[38;5;241m*\u001b[39m font\u001b[38;5;241m.\u001b[39msize)\n\u001b[1;32m    320\u001b[0m     size \u001b[38;5;241m=\u001b[39m width, math\u001b[38;5;241m.\u001b[39mceil(asset\u001b[38;5;241m.\u001b[39mheight \u001b[38;5;241m/\u001b[39m asset\u001b[38;5;241m.\u001b[39mwidth \u001b[38;5;241m*\u001b[39m width)\n",
      "File \u001b[0;32m/Library/Frameworks/Python.framework/Versions/3.12/lib/python3.12/site-packages/PIL/Image.py:3309\u001b[0m, in \u001b[0;36mopen\u001b[0;34m(fp, mode, formats)\u001b[0m\n\u001b[1;32m   3307\u001b[0m     warnings\u001b[38;5;241m.\u001b[39mwarn(message)\n\u001b[1;32m   3308\u001b[0m msg \u001b[38;5;241m=\u001b[39m \u001b[38;5;124m\"\u001b[39m\u001b[38;5;124mcannot identify image file \u001b[39m\u001b[38;5;132;01m%r\u001b[39;00m\u001b[38;5;124m\"\u001b[39m \u001b[38;5;241m%\u001b[39m (filename \u001b[38;5;28;01mif\u001b[39;00m filename \u001b[38;5;28;01melse\u001b[39;00m fp)\n\u001b[0;32m-> 3309\u001b[0m \u001b[38;5;28;01mraise\u001b[39;00m UnidentifiedImageError(msg)\n",
      "\u001b[0;31mUnidentifiedImageError\u001b[0m: cannot identify image file <_io.BytesIO object at 0x10e4bc720>"
     ]
    }
   ],
   "source": [
    "for name in ('classic', 'all_flags', 'flags', 'food', 'colors', 'love', 'moon'):\n",
    "    exec(gen_code(name))"
   ]
  }
 ],
 "metadata": {
  "kernelspec": {
   "display_name": "Python 3 (ipykernel)",
   "language": "python",
   "name": "python3"
  },
  "language_info": {
   "codemirror_mode": {
    "name": "ipython",
    "version": 3
   },
   "file_extension": ".py",
   "mimetype": "text/x-python",
   "name": "python",
   "nbconvert_exporter": "python",
   "pygments_lexer": "ipython3",
   "version": "3.12.1"
  }
 },
 "nbformat": 4,
 "nbformat_minor": 5
}
