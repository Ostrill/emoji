{
 "cells": [
  {
   "cell_type": "code",
   "execution_count": 1,
   "id": "14ddaa81-ffa3-46e8-adfe-fd864b82411f",
   "metadata": {},
   "outputs": [],
   "source": [
    "from PIL import Image, ImageFont, ImageDraw\n",
    "from pilmoji import Pilmoji\n",
    "from pilmoji.source import EmojiCDNSource\n",
    "import numpy as np\n",
    "import pickle"
   ]
  },
  {
   "cell_type": "code",
   "execution_count": 66,
   "id": "64e5e9a1-f417-475a-b00c-1bdbbc35e988",
   "metadata": {},
   "outputs": [],
   "source": [
    "def create_data(emojis,\n",
    "                size=50,\n",
    "                save_as=None, \n",
    "                disp=True):\n",
    "    \"\"\"\n",
    "    Create an dict containing all data to draw N \n",
    "    different emojis (which are specified in the\n",
    "    first parameter of function). Structure of dict: \n",
    "    {\n",
    "        'emojis': list of N emojis of str type,\n",
    "        'styles': dict of 4 style names {number: stylename},\n",
    "        'matrices': np-array with shape (4, N, size, size, 4) of uint8,\n",
    "        'averages': np-array with shape (4, N, 3) of float,\n",
    "        'areas': np-array with shape (4, N) of float\n",
    "    }\n",
    "\n",
    "    PARAMETERS\n",
    "    ----------\n",
    "    emojis : list[str]\n",
    "        list of emojis to build data\n",
    "\n",
    "    save_as : str or None\n",
    "        path to save data. If None is specified, data\n",
    "        will not be saved\n",
    "    \n",
    "    disp : bool\n",
    "        | toggle progress displaing\n",
    "    \"\"\"\n",
    "    \n",
    "    def _str2style(name):\n",
    "        \"\"\"to convert style name to style class\"\"\"\n",
    "        class StyleClass(EmojiCDNSource):\n",
    "            STYLE = name\n",
    "        return StyleClass\n",
    "        \n",
    "    # Quantity of emojis\n",
    "    n_emojis = len(emojis)\n",
    "\n",
    "    # Size of image with emoji\n",
    "    esize = (size, size)\n",
    "    \n",
    "    data_dict = {\n",
    "        'emojis': emojis,\n",
    "        'styles': {0: 'twitter', \n",
    "                   1: 'apple', \n",
    "                   2: 'google', \n",
    "                   3: 'facebook'},\n",
    "        'matrices': np.zeros((4, n_emojis, *esize, 4), \n",
    "                             dtype='uint8'),\n",
    "        'averages': np.zeros((4, n_emojis, 3)),\n",
    "        'areas': np.zeros((4, n_emojis))\n",
    "    }\n",
    "\n",
    "    # Style classes\n",
    "    styles = [_str2style(data_dict['styles'][i]) for i in range(4)]\n",
    "\n",
    "    for i, emoji in enumerate(emojis):\n",
    "        for j, style in enumerate(styles):\n",
    "            # Drawing an emoji on empty (0, 0, 0, 0) RGBA image\n",
    "            with Image.new('RGBA', esize, 0) as image:\n",
    "                font = ImageFont.truetype('arial.ttf', esize[0])\n",
    "                with Pilmoji(image, source=style) as pilmoji:\n",
    "                    pilmoji.text((0, 0), emoji, font=font)\n",
    "            # RGBA-matrix\n",
    "            image_np = np.array(image)\n",
    "            data_dict['matrices'][j, i] = image_np#.astype('uint8')\n",
    "            \n",
    "            # Area occupied by an emoji\n",
    "            alphas = image_np[..., 3:] / 255\n",
    "            data_dict['areas'][j, i] = alphas.sum() / np.prod(esize)\n",
    "\n",
    "            # Average color of emoji\n",
    "            weighted_sum = (image_np[:, :, :3] * alphas).sum(axis=(0, 1))\n",
    "            data_dict['averages'][j, i] =  weighted_sum / alphas.sum()\n",
    "            \n",
    "            # Displaing the progress\n",
    "            if disp:\n",
    "                total = n_emojis * 4\n",
    "                current = i * 4 + j + 1\n",
    "                progress = f'{round(current / total * 100, 2)}%'\n",
    "                print(f'\\r{progress:<6} ({i+1}/{len(emojis)})', end='')\n",
    "    if disp:\n",
    "        print()\n",
    "\n",
    "    # Saving as binary pickle file\n",
    "    if save_as is not None:\n",
    "        with open(f'{save_as}.pkl', 'wb') as file:\n",
    "            pickle.dump(data_dict, file)\n",
    "\n",
    "    return data_dict"
   ]
  },
  {
   "cell_type": "code",
   "execution_count": 3,
   "id": "1c46aeb7-31c5-4e9a-80c8-bd1110eac69c",
   "metadata": {},
   "outputs": [],
   "source": [
    "def load_emoji_list(list_name):\n",
    "    with open(f'{list_name}.txt', 'r') as file:\n",
    "        emoji_list = [line.strip() for line in file]\n",
    "    return emoji_list"
   ]
  },
  {
   "cell_type": "code",
   "execution_count": 36,
   "id": "3d6b88fb-d2f0-497d-aed9-bb4c8bda09a5",
   "metadata": {},
   "outputs": [],
   "source": [
    "# moon colors love food flags all_flags classic"
   ]
  },
  {
   "cell_type": "code",
   "execution_count": 56,
   "id": "674d5a75-95cc-4991-958c-51b8c9914767",
   "metadata": {},
   "outputs": [],
   "source": [
    "def gen_code(name):\n",
    "    return f'{name} = create_data(load_emoji_list(\"lists/{name}\"), size=50, save_as=\"{name}\")'"
   ]
  },
  {
   "cell_type": "code",
   "execution_count": 65,
   "id": "4626173b-ebcf-492c-83f4-6135b9f9f3d0",
   "metadata": {},
   "outputs": [
    {
     "name": "stdout",
     "output_type": "stream",
     "text": [
      "100.0% (493/493)\n",
      "CPU times: user 1min 57s, sys: 5.62 s, total: 2min 3s\n",
      "Wall time: 36min 27s\n"
     ]
    }
   ],
   "source": [
    "%%time\n",
    "exec(gen_code('classic'))"
   ]
  },
  {
   "cell_type": "code",
   "execution_count": 64,
   "id": "f1958da8-1a44-4f3c-836f-3e0a0b3834b8",
   "metadata": {},
   "outputs": [
    {
     "name": "stdout",
     "output_type": "stream",
     "text": [
      "100.0% (254/254)\n",
      "CPU times: user 59.3 s, sys: 2.51 s, total: 1min 1s\n",
      "Wall time: 15min 12s\n"
     ]
    }
   ],
   "source": [
    "%%time\n",
    "exec(gen_code('all_flags'))"
   ]
  },
  {
   "cell_type": "code",
   "execution_count": 63,
   "id": "481e69ee-15ca-4705-a7f8-ef1b9d779be8",
   "metadata": {},
   "outputs": [
    {
     "name": "stdout",
     "output_type": "stream",
     "text": [
      "100.0% (246/246)\n",
      "CPU times: user 57.9 s, sys: 2.55 s, total: 1min\n",
      "Wall time: 21min 42s\n"
     ]
    }
   ],
   "source": [
    "%%time\n",
    "exec(gen_code('flags'))"
   ]
  },
  {
   "cell_type": "code",
   "execution_count": 60,
   "id": "034eebfa-a06c-4822-8ba1-fded0ca646de",
   "metadata": {},
   "outputs": [
    {
     "name": "stdout",
     "output_type": "stream",
     "text": [
      "100.0% (115/115)\n",
      "CPU times: user 26.5 s, sys: 1.17 s, total: 27.6 s\n",
      "Wall time: 6min 53s\n"
     ]
    }
   ],
   "source": [
    "%%time\n",
    "exec(gen_code('food'))"
   ]
  },
  {
   "cell_type": "code",
   "execution_count": 59,
   "id": "e50e6ea9-3f38-41f6-bcf1-b3236814ab5b",
   "metadata": {},
   "outputs": [
    {
     "name": "stdout",
     "output_type": "stream",
     "text": [
      "100.0% (30/30)\n",
      "CPU times: user 5.96 s, sys: 320 ms, total: 6.28 s\n",
      "Wall time: 1min 44s\n"
     ]
    }
   ],
   "source": [
    "%%time\n",
    "exec(gen_code('colors'))"
   ]
  },
  {
   "cell_type": "code",
   "execution_count": 58,
   "id": "9befed92-31a4-4410-99e0-aeeeaa46ce40",
   "metadata": {},
   "outputs": [
    {
     "name": "stdout",
     "output_type": "stream",
     "text": [
      "100.0% (29/29)\n",
      "CPU times: user 5.62 s, sys: 303 ms, total: 5.92 s\n",
      "Wall time: 1min 34s\n"
     ]
    }
   ],
   "source": [
    "%%time\n",
    "exec(gen_code('love'))"
   ]
  },
  {
   "cell_type": "code",
   "execution_count": 57,
   "id": "77bc2ddd-ab48-460a-b904-aa70fa4ab510",
   "metadata": {},
   "outputs": [
    {
     "name": "stdout",
     "output_type": "stream",
     "text": [
      "100.0% (8/8)\n",
      "CPU times: user 1.55 s, sys: 101 ms, total: 1.65 s\n",
      "Wall time: 29.1 s\n"
     ]
    }
   ],
   "source": [
    "%%time\n",
    "exec(gen_code('moon'))"
   ]
  },
  {
   "cell_type": "code",
   "execution_count": 62,
   "id": "637ba9c3-f4f0-40ef-b4e0-3ae27283741c",
   "metadata": {},
   "outputs": [
    {
     "data": {
      "image/png": "[encoded data removed]",
      "text/plain": [
       "<PIL.Image.Image image mode=RGBA size=50x50>"
      ]
     },
     "execution_count": 62,
     "metadata": {},
     "output_type": "execute_result"
    }
   ],
   "source": [
    "Image.fromarray(food['matrices'][1, 0])"
   ]
  },
  {
   "cell_type": "code",
   "execution_count": 61,
   "id": "a3011016-66dc-4b98-a3a9-dea92851ab1b",
   "metadata": {},
   "outputs": [
    {
     "data": {
      "image/png": "[encoded data removed]",
      "text/plain": [
       "<PIL.Image.Image image mode=RGBA size=50x50>"
      ]
     },
     "execution_count": 61,
     "metadata": {},
     "output_type": "execute_result"
    }
   ],
   "source": [
    "Image.fromarray(moon['matrices'][1, 0])"
   ]
  }
 ],
 "metadata": {
  "kernelspec": {
   "display_name": "Python 3 (ipykernel)",
   "language": "python",
   "name": "python3"
  },
  "language_info": {
   "codemirror_mode": {
    "name": "ipython",
    "version": 3
   },
   "file_extension": ".py",
   "mimetype": "text/x-python",
   "name": "python",
   "nbconvert_exporter": "python",
   "pygments_lexer": "ipython3",
   "version": "3.12.1"
  }
 },
 "nbformat": 4,
 "nbformat_minor": 5
}
